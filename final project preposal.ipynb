{
 "cells": [
  {
   "cell_type": "markdown",
   "id": "293c92cc-564a-4815-8a04-31b6534e3983",
   "metadata": {},
   "source": [
    "# 1\n",
    "i am working alone\n",
    "i plan to work 3 day a week at least every wensday friday and sunday 1-1.5 hours each time\n",
    "# 2\n",
    "i am using auto-mpg dataset\n",
    "https://www.kaggle.com/datasets/uciml/autompg-dataset\n",
    "# 3\n",
    "hpoythesis\n",
    "null u each car is the same speed.\n",
    "alternative one brand might prove to have faster cars\n",
    "logitstic regression,knn, problably linear rgression."
   ]
  },
  {
   "cell_type": "code",
   "execution_count": null,
   "id": "6c66065f-5f25-47a6-bfaa-ac1b5f98a5b1",
   "metadata": {},
   "outputs": [],
   "source": []
  }
 ],
 "metadata": {
  "kernelspec": {
   "display_name": "Python 3 (ipykernel)",
   "language": "python",
   "name": "python3"
  },
  "language_info": {
   "codemirror_mode": {
    "name": "ipython",
    "version": 3
   },
   "file_extension": ".py",
   "mimetype": "text/x-python",
   "name": "python",
   "nbconvert_exporter": "python",
   "pygments_lexer": "ipython3",
   "version": "3.12.7"
  }
 },
 "nbformat": 4,
 "nbformat_minor": 5
}
