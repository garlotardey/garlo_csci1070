{
 "cells": [
  {
   "cell_type": "markdown",
   "id": "293c92cc-564a-4815-8a04-31b6534e3983",
   "metadata": {},
   "source": [
    "# 1\n",
    "i am working alone\n",
    "i plan to work 3 day a week at least every wensday friday and sunday 1-1.5 hours each time\n",
    "# 2\n",
    "i am using auto-mpg dataset\n",
    "https://www.kaggle.com/datasets/nehalbirla/vehicle-dataset-from-cardekho\n",
    "# 3\n",
    "hpoythesis\n",
    "null: after cleaning the data i will use multivariate regression to predict sale price of a car \n",
    "selling price and km on the car will have a big impact on the change in selling price\n",
    "alternative: selling price and the km drivin wont affect the value of the car\n",
    "\n",
    "# 4\n",
    "\n",
    "multivariate regression for predicting price with columns like selling price, kilometers driven, and year."
   ]
  }
 ],
 "metadata": {
  "kernelspec": {
   "display_name": "Python 3 (ipykernel)",
   "language": "python",
   "name": "python3"
  },
  "language_info": {
   "codemirror_mode": {
    "name": "ipython",
    "version": 3
   },
   "file_extension": ".py",
   "mimetype": "text/x-python",
   "name": "python",
   "nbconvert_exporter": "python",
   "pygments_lexer": "ipython3",
   "version": "3.12.7"
  }
 },
 "nbformat": 4,
 "nbformat_minor": 5
}
