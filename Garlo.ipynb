{
 "cells": [
  {
   "cell_type": "code",
   "execution_count": 5,
   "id": "d5c32368-5083-4d90-baa4-c052d98d8292",
   "metadata": {
    "jupyter": {
     "source_hidden": true
    }
   },
   "outputs": [],
   "source": [
    "\n",
    "#assignment is giving a variable a value\n",
    "x = 5 \n",
    "y = 6 #float/floating point decimal\n"
   ]
  },
  {
   "cell_type": "code",
   "execution_count": null,
   "id": "13db0c28-dbb4-4469-b2a5-fc7c3ae40ec7",
   "metadata": {},
   "outputs": [],
   "source": []
  },
  {
   "cell_type": "code",
   "execution_count": 6,
   "id": "0007a7c9-996e-4b06-87f1-c1741330dedd",
   "metadata": {},
   "outputs": [
    {
     "name": "stdout",
     "output_type": "stream",
     "text": [
      "5\n"
     ]
    }
   ],
   "source": [
    "print(x)\n",
    "# to get hints on a function, put your cursor in the function and press shift-tab"
   ]
  },
  {
   "cell_type": "code",
   "execution_count": 7,
   "id": "4261adc3-9494-49e5-b688-cf7c54d14dc7",
   "metadata": {},
   "outputs": [
    {
     "data": {
      "text/plain": [
       "int"
      ]
     },
     "execution_count": 7,
     "metadata": {},
     "output_type": "execute_result"
    }
   ],
   "source": [
    "type(y)\n"
   ]
  },
  {
   "cell_type": "code",
   "execution_count": 8,
   "id": "ad7c0091-c166-4a3a-a91b-f917e6c1143b",
   "metadata": {},
   "outputs": [],
   "source": [
    "#dictionaries"
   ]
  },
  {
   "cell_type": "code",
   "execution_count": 9,
   "id": "b242e374-9d46-4582-bf15-3d322f4bcccc",
   "metadata": {},
   "outputs": [
    {
     "ename": "NameError",
     "evalue": "name 'false' is not defined",
     "output_type": "error",
     "traceback": [
      "\u001b[0;31m---------------------------------------------------------------------------\u001b[0m",
      "\u001b[0;31mNameError\u001b[0m                                 Traceback (most recent call last)",
      "Cell \u001b[0;32mIn[9], line 2\u001b[0m\n\u001b[1;32m      1\u001b[0m \u001b[38;5;66;03m#booleans are true or false values values\u001b[39;00m\n\u001b[0;32m----> 2\u001b[0m is_true \u001b[38;5;241m=\u001b[39m \u001b[43mfalse\u001b[49m\n",
      "\u001b[0;31mNameError\u001b[0m: name 'false' is not defined"
     ]
    }
   ],
   "source": [
    "#booleans are true or false values values\n",
    "is_true = false\n"
   ]
  },
  {
   "cell_type": "code",
   "execution_count": 10,
   "id": "f1854d10-5c4f-4e64-91b4-51e76ed64766",
   "metadata": {},
   "outputs": [
    {
     "ename": "NameError",
     "evalue": "name 'breakfast' is not defined",
     "output_type": "error",
     "traceback": [
      "\u001b[0;31m---------------------------------------------------------------------------\u001b[0m",
      "\u001b[0;31mNameError\u001b[0m                                 Traceback (most recent call last)",
      "Cell \u001b[0;32mIn[10], line 3\u001b[0m\n\u001b[1;32m      1\u001b[0m \u001b[38;5;66;03m#tuples are ordered but unchangeable (immutable)\u001b[39;00m\n\u001b[1;32m      2\u001b[0m breakfast_tuple \u001b[38;5;241m=\u001b[39m (\u001b[38;5;124m\"\u001b[39m\u001b[38;5;124mcoffee\u001b[39m\u001b[38;5;124m\"\u001b[39m,\u001b[38;5;124m\"\u001b[39m\u001b[38;5;124mbagels\u001b[39m\u001b[38;5;124m\"\u001b[39m,\u001b[38;5;124m\"\u001b[39m\u001b[38;5;124mcereal\u001b[39m\u001b[38;5;124m\"\u001b[39m)\n\u001b[0;32m----> 3\u001b[0m \u001b[43mbreakfast\u001b[49m\n",
      "\u001b[0;31mNameError\u001b[0m: name 'breakfast' is not defined"
     ]
    }
   ],
   "source": [
    "#tuples are ordered but unchangeable (immutable)\n",
    "breakfast_tuple = (\"coffee\",\"bagels\",\"cereal\")\n",
    "breakfast"
   ]
  },
  {
   "cell_type": "code",
   "execution_count": 11,
   "id": "b0d87522-86ee-4839-bff6-7aa6dd958d42",
   "metadata": {},
   "outputs": [
    {
     "name": "stdout",
     "output_type": "stream",
     "text": [
      "['b']\n"
     ]
    }
   ],
   "source": [
    "#slicing uses the fuction slice. slice(start, end, step)\n",
    "letters_tuple = [\"a\", \"b\",\"d\", \"e\",]\n",
    "x = slice(1,2)\n",
    "print(letters_tuple[x])"
   ]
  },
  {
   "cell_type": "code",
   "execution_count": 12,
   "id": "bfefc11d-10ee-447d-96c0-a1622dc497c9",
   "metadata": {},
   "outputs": [
    {
     "data": {
      "text/plain": [
       "['b', 'd']"
      ]
     },
     "execution_count": 12,
     "metadata": {},
     "output_type": "execute_result"
    }
   ],
   "source": [
    "letters_tuple[1:3]"
   ]
  },
  {
   "cell_type": "code",
   "execution_count": 14,
   "id": "34d38f50-c809-4635-8f95-690491dd2b4d",
   "metadata": {},
   "outputs": [
    {
     "name": "stdout",
     "output_type": "stream",
     "text": [
      "['a', 'd']\n"
     ]
    }
   ],
   "source": [
    "# use slice to return a, c, and e\n",
    "# the end value is \"exclusive\" wich means 0-5 dose not include 5 itself.\n",
    "y = slice(0,5,2)\n",
    "print(letters_tuple[y])"
   ]
  },
  {
   "cell_type": "code",
   "execution_count": 1,
   "id": "1b3cd244-9c60-4b55-b93c-999bcc3c715c",
   "metadata": {},
   "outputs": [
    {
     "ename": "NameError",
     "evalue": "name 'loops' is not defined",
     "output_type": "error",
     "traceback": [
      "\u001b[0;31m---------------------------------------------------------------------------\u001b[0m",
      "\u001b[0;31mNameError\u001b[0m                                 Traceback (most recent call last)",
      "Cell \u001b[0;32mIn[1], line 1\u001b[0m\n\u001b[0;32m----> 1\u001b[0m \u001b[43mloops\u001b[49m\n",
      "\u001b[0;31mNameError\u001b[0m: name 'loops' is not defined"
     ]
    }
   ],
   "source": [
    "loops\n"
   ]
  },
  {
   "cell_type": "code",
   "execution_count": null,
   "id": "e9959554-c8df-47cf-ad39-fee3e089e784",
   "metadata": {},
   "outputs": [],
   "source": []
  }
 ],
 "metadata": {
  "kernelspec": {
   "display_name": "Python 3 (ipykernel)",
   "language": "python",
   "name": "python3"
  },
  "language_info": {
   "codemirror_mode": {
    "name": "ipython",
    "version": 3
   },
   "file_extension": ".py",
   "mimetype": "text/x-python",
   "name": "python",
   "nbconvert_exporter": "python",
   "pygments_lexer": "ipython3",
   "version": "3.12.5"
  }
 },
 "nbformat": 4,
 "nbformat_minor": 5
}
