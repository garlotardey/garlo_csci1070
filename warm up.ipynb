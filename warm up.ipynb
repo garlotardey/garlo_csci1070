{
 "cells": [
  {
   "cell_type": "code",
   "execution_count": 7,
   "id": "a0b9c33f-c310-44e0-b383-37d9c72f8c84",
   "metadata": {},
   "outputs": [
    {
     "ename": "SyntaxError",
     "evalue": "unterminated string literal (detected at line 1) (2808444147.py, line 1)",
     "output_type": "error",
     "traceback": [
      "\u001b[0;36m  Cell \u001b[0;32mIn[7], line 1\u001b[0;36m\u001b[0m\n\u001b[0;31m    \"the variable x has a value of < x= 1 >\u001b[0m\n\u001b[0m    ^\u001b[0m\n\u001b[0;31mSyntaxError\u001b[0m\u001b[0;31m:\u001b[0m unterminated string literal (detected at line 1)\n"
     ]
    }
   ],
   "source": [
    "\"the variable x has a value of < x= 1 >"
   ]
  },
  {
   "cell_type": "code",
   "execution_count": 8,
   "id": "a773a079-1503-49ce-8144-d0a46e2f3c61",
   "metadata": {},
   "outputs": [
    {
     "name": "stdout",
     "output_type": "stream",
     "text": [
      "the variable x has the value of {x}\n"
     ]
    }
   ],
   "source": [
    "x='a banna'\n",
    "print (\"The variable x has the value of {x}\")\n"
   ]
  },
  {
   "cell_type": "code",
   "execution_count": null,
   "id": "590d6519-0602-42fd-863b-71cf7b066c8c",
   "metadata": {},
   "outputs": [],
   "source": []
  }
 ],
 "metadata": {
  "kernelspec": {
   "display_name": "Python 3 (ipykernel)",
   "language": "python",
   "name": "python3"
  },
  "language_info": {
   "codemirror_mode": {
    "name": "ipython",
    "version": 3
   },
   "file_extension": ".py",
   "mimetype": "text/x-python",
   "name": "python",
   "nbconvert_exporter": "python",
   "pygments_lexer": "ipython3",
   "version": "3.12.5"
  }
 },
 "nbformat": 4,
 "nbformat_minor": 5
}
