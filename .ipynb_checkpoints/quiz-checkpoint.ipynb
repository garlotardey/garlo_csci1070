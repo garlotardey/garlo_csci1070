{
 "cells": [
  {
   "cell_type": "code",
   "execution_count": 19,
   "id": "4d5bfb0d-dffb-4820-b4e7-e5ce59e832de",
   "metadata": {},
   "outputs": [
    {
     "name": "stdout",
     "output_type": "stream",
     "text": [
      "January\n",
      "February\n",
      "March\n",
      "April\n",
      "May\n",
      "June\n",
      "my birthday\n",
      "July\n",
      "August\n",
      "September\n",
      "October\n",
      "November\n",
      "December\n"
     ]
    }
   ],
   "source": [
    "month = [\"January\",\"February\",\"March\",\"April\",\"May\",\"June\",\"July\",\"August\",\"September\",\"October\",\"November\",\"December\"]\n",
    "for month in months:\n",
    "    print( month)\n",
    "    if month == \"June\":\n",
    "     print(\"my birthday\")\n"
   ]
  },
  {
   "cell_type": "markdown",
   "id": "0a7c7553-1d59-47c5-aaed-ab0f1d10779e",
   "metadata": {},
   "source": [
    "###### ASWER T234=3WAQ"
   ]
  },
  {
   "cell_type": "markdown",
   "id": "88791169-dd8a-4221-8d24-7dc680c0b9ac",
   "metadata": {},
   "source": [
    "###### "
   ]
  }
 ],
 "metadata": {
  "kernelspec": {
   "display_name": "Python 3 (ipykernel)",
   "language": "python",
   "name": "python3"
  },
  "language_info": {
   "codemirror_mode": {
    "name": "ipython",
    "version": 3
   },
   "file_extension": ".py",
   "mimetype": "text/x-python",
   "name": "python",
   "nbconvert_exporter": "python",
   "pygments_lexer": "ipython3",
   "version": "3.12.5"
  }
 },
 "nbformat": 4,
 "nbformat_minor": 5
}
