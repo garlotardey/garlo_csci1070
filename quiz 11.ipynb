{
 "cells": [
  {
   "cell_type": "code",
   "execution_count": 14,
   "metadata": {},
   "outputs": [],
   "source": [
    "import pandas as pd\n",
    "import numpy as np\n",
    "from typing import List\n"
   ]
  },
  {
   "cell_type": "code",
   "execution_count": 19,
   "metadata": {},
   "outputs": [
    {
     "name": "stdout",
     "output_type": "stream",
     "text": [
      "['a', 'b']\n"
     ]
    }
   ],
   "source": [
    "def filter(values: List) -> List:\n",
    "    numbers = []\n",
    "    for x in values:\n",
    "\n",
    "        if not isinstance(x, (int, float)):\n",
    "            numbers += x  \n",
    "    return numbers\n",
    "\n",
    "\n",
    "valuesa = [1, 2, 'a', 'b', 7.6]\n",
    "print(filter(valuesa))"
   ]
  },
  {
   "cell_type": "code",
   "execution_count": 23,
   "metadata": {},
   "outputs": [
    {
     "name": "stdout",
     "output_type": "stream",
     "text": [
      "[1, 2, (3, 'fizz'), 4, (5, 'buzz'), (6, 'fizz'), 7, 8, (9, 'fizz'), (10, 'buzz')]\n"
     ]
    }
   ],
   "source": [
    "\n",
    "def fizzbuzz(n: int = 100) -> List:\n",
    "    results = []  \n",
    "\n",
    "    for i in range(1, n + 1):\n",
    "\n",
    "        if i % 3 == 0 and i % 5 == 0:\n",
    "            results.append((i, 'fizzbuzz'))\n",
    "\n",
    "        elif i % 3 == 0:\n",
    "            results.append((i, 'fizz'))\n",
    "\n",
    "        elif i % 5 == 0:\n",
    "            results.append((i, 'buzz'))\n",
    "\n",
    "        else:\n",
    "            results.append(i)\n",
    "    \n",
    "    return results\n",
    "\n",
    "print(fizzbuzz(10))"
   ]
  }
 ],
 "metadata": {
  "kernelspec": {
   "display_name": "Python 3",
   "language": "python",
   "name": "python3"
  },
  "language_info": {
   "codemirror_mode": {
    "name": "ipython",
    "version": 3
   },
   "file_extension": ".py",
   "mimetype": "text/x-python",
   "name": "python",
   "nbconvert_exporter": "python",
   "pygments_lexer": "ipython3",
   "version": "3.10.14"
  }
 },
 "nbformat": 4,
 "nbformat_minor": 2
}
