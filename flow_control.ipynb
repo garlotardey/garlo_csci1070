{
 "cells": [
  {
   "cell_type": "code",
   "execution_count": null,
   "id": "c4f60063-8e11-479d-8746-f55433a0f93b",
   "metadata": {},
   "outputs": [],
   "source": [
    "Loops and functions"
   ]
  },
  {
   "cell_type": "code",
   "execution_count": 6,
   "id": "ed40ea90-2702-4807-878e-a4c222394f1f",
   "metadata": {},
   "outputs": [],
   "source": [
    "# loops are floow control. Changes how code executes iteratively, how data moves\n",
    "# through the applicaition\n",
    "# if ... (elif ... else)\n",
    "# if and else are optinal. depends on what youre trying to do\n",
    "# if a equals b, return \"they are equal\". if a is greater than b \"a is greater\"\n",
    "# and if b is greater than a, return \"b is greater\"\n",
    "\n",
    "# == is comparing whereas = is setting something equal to something else (assigning a variable)\n",
    "a=20\n",
    "b=18\n",
    "if a==b:\n",
    "    print (\"they are greater\")\n",
    "elif a>b:\n",
    "    print (\"a is greater\")\n",
    "elif b>a: (\"b is greater\")"
   ]
  },
  {
   "cell_type": "code",
   "execution_count": 10,
   "id": "384f26ad-127f-4be8-bd8e-db6167246f9f",
   "metadata": {},
   "outputs": [
    {
     "name": "stdout",
     "output_type": "stream",
     "text": [
      "7\n",
      "6\n"
     ]
    }
   ],
   "source": [
    "# while loops\n",
    "# reaptedly test an expression and continue to run whatever is in the loop\n",
    "# until a stopping condition is met\n",
    "x = 7\n",
    "while x > 5:\n",
    "    print(x)\n",
    "    # decrement our  so it can stop\n",
    "    x = x-1"
   ]
  },
  {
   "cell_type": "code",
   "execution_count": null,
   "id": "c5a4fe16-59fd-4398-98dc-e905c96d8095",
   "metadata": {},
   "outputs": [],
   "source": [
    "# create a scenario where x starts at 3 and is incremented by 1\n",
    "# and you print the value of x while x is less than 10\n",
    "x = 3\n",
    "while x "
   ]
  },
  {
   "cell_type": "code",
   "execution_count": 13,
   "id": "c5fa8d07-6cd6-48f1-ac90-a2eb66d6842f",
   "metadata": {},
   "outputs": [
    {
     "name": "stdout",
     "output_type": "stream",
     "text": [
      "Dexter\n",
      "Grumpy\n",
      "pete\n",
      "Dotty\n",
      "Fluffy\n"
     ]
    }
   ],
   "source": [
    "cats = [\"Dexter\",\"Grumpy\", \"pete\", \"Dotty\", \"Fluffy\"]\n",
    "for z in cats:\n",
    "    print(z)"
   ]
  },
  {
   "cell_type": "code",
   "execution_count": 15,
   "id": "aa6292ec-a444-4025-b49d-1f5bda3d8c01",
   "metadata": {},
   "outputs": [
    {
     "name": "stdout",
     "output_type": "stream",
     "text": [
      "1\n",
      "3\n",
      "5\n",
      "7\n",
      "9\n"
     ]
    }
   ],
   "source": [
    "# range(start, stop[, step])\n",
    "# stop is exclusive, so its not included\n",
    "for r in range(1,10+1,2):\n",
    "    print(r)"
   ]
  },
  {
   "cell_type": "code",
   "execution_count": 5,
   "id": "72bd18f7-be1f-4edc-a9e7-5863fb02ef75",
   "metadata": {},
   "outputs": [
    {
     "ename": "IndentationError",
     "evalue": "expected an indented block after 'if' statement on line 5 (189317027.py, line 6)",
     "output_type": "error",
     "traceback": [
      "\u001b[0;36m  Cell \u001b[0;32mIn[5], line 6\u001b[0;36m\u001b[0m\n\u001b[0;31m    return (\"they are greater\")\u001b[0m\n\u001b[0m    ^\u001b[0m\n\u001b[0;31mIndentationError\u001b[0m\u001b[0;31m:\u001b[0m expected an indented block after 'if' statement on line 5\n"
     ]
    }
   ],
   "source": [
    "# if we want are code to be reusable, we use a function!\n",
    "# any variables we want to use in the function need to be passed in\n",
    "# or defined inside the function itself.\n",
    "def comparison(a=0,b=0):\n",
    "    if a==b:\n",
    "    return (\"they are greater\")\n",
    "elif a>b:\n",
    "    return (\"a is greater\")\n",
    "elif b>a: \n",
    "    return (\"b is greater\")\n"
   ]
  },
  {
   "cell_type": "code",
   "execution_count": 12,
   "id": "05decd45-ac1c-49de-a479-07e3446ddc61",
   "metadata": {},
   "outputs": [
    {
     "ename": "NameError",
     "evalue": "name 'comparison' is not defined",
     "output_type": "error",
     "traceback": [
      "\u001b[0;31m---------------------------------------------------------------------------\u001b[0m",
      "\u001b[0;31mNameError\u001b[0m                                 Traceback (most recent call last)",
      "Cell \u001b[0;32mIn[12], line 1\u001b[0m\n\u001b[0;32m----> 1\u001b[0m \u001b[43mcomparison\u001b[49m(\u001b[38;5;241m2\u001b[39m,\u001b[38;5;241m17\u001b[39m)\n",
      "\u001b[0;31mNameError\u001b[0m: name 'comparison' is not defined"
     ]
    }
   ],
   "source": [
    "comparison(2,17)"
   ]
  },
  {
   "cell_type": "code",
   "execution_count": 1,
   "id": "e00eef10-0ac8-4923-9500-ea8a517d231c",
   "metadata": {},
   "outputs": [
    {
     "ename": "NameError",
     "evalue": "name 'comparison' is not defined",
     "output_type": "error",
     "traceback": [
      "\u001b[0;31m---------------------------------------------------------------------------\u001b[0m",
      "\u001b[0;31mNameError\u001b[0m                                 Traceback (most recent call last)",
      "Cell \u001b[0;32mIn[1], line 1\u001b[0m\n\u001b[0;32m----> 1\u001b[0m \u001b[43mcomparison\u001b[49m(\u001b[38;5;241m14\u001b[39m)\n",
      "\u001b[0;31mNameError\u001b[0m: name 'comparison' is not defined"
     ]
    }
   ],
   "source": [
    "comparison(14)\n",
    "# be is defualted to 0"
   ]
  },
  {
   "cell_type": "code",
   "execution_count": null,
   "id": "6dad1e4d-5b9e-4fd9-a618-fa08b13138eb",
   "metadata": {},
   "outputs": [],
   "source": []
  }
 ],
 "metadata": {
  "kernelspec": {
   "display_name": "Python 3 (ipykernel)",
   "language": "python",
   "name": "python3"
  },
  "language_info": {
   "codemirror_mode": {
    "name": "ipython",
    "version": 3
   },
   "file_extension": ".py",
   "mimetype": "text/x-python",
   "name": "python",
   "nbconvert_exporter": "python",
   "pygments_lexer": "ipython3",
   "version": "3.12.5"
  }
 },
 "nbformat": 4,
 "nbformat_minor": 5
}
