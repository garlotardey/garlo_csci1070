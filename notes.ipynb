{
 "cells": [
  {
   "cell_type": "markdown",
   "id": "bd6f9e5c-dd8d-4925-812c-1c5eace38de9",
   "metadata": {},
   "source": [
    "# prinicpals of oop\n",
    "encapuslation- implementation detail or encapsolated in objects\n",
    "\n",
    "inheritance - child classes can't in herit parent classes and modules\n",
    "\n",
    "polymorphism - objects and names exsist in many forms so. the same attribute or method can exist in multiple classes and mean different things\n",
    "\n",
    "abstraction- handling a concept rather than the implementation details."
   ]
  },
  {
   "cell_type": "markdown",
   "id": "139ab7cf-f859-4821-a2e9-62320acbe360",
   "metadata": {},
   "source": [
    "# NumPy ooverview\n",
    "Arrays\n",
    "Array shaping\n",
    "Array Math\n",
    "Array indexing and slicing\n",
    "Array broadcasting\n",
    "\n",
    "NumPy is all about arrays!"
   ]
  },
  {
   "cell_type": "markdown",
   "id": "aa559422-ee6c-4e30-bc7e-b8ad7d297474",
   "metadata": {},
   "source": [
    "# Arrays\n",
    "Structured list of numbers\n",
    "Vectors\n",
    "Matrices\n",
    "Images\n",
    "Tensors\n",
    "ConvNets"
   ]
  },
  {
   "cell_type": "code",
   "execution_count": 29,
   "id": "3ff90cb0-a256-4100-a76b-aac92fc22278",
   "metadata": {},
   "outputs": [],
   "source": [
    "import numpy as np"
   ]
  },
  {
   "cell_type": "code",
   "execution_count": null,
   "id": "0136eade-3d33-4746-bb87-4a8726ccb5f6",
   "metadata": {},
   "outputs": [],
   "source": []
  },
  {
   "cell_type": "markdown",
   "id": "015d1732-a345-4950-bdc9-0de6777258b7",
   "metadata": {},
   "source": [
    "1. Arrays can have any number of dimensions, including zero(a scalar).\n",
    "2. Arrays are typed: np.unit8, npint64, np.float32, np.float64\n",
    "3. Arrays are dense. Each element of the array exist and has the same type.\n",
    "4. Arrays are faster than python lists (consumes less memory)\n",
    "5. Can only combime arrays of the same shape.! "
   ]
  },
  {
   "cell_type": "code",
   "execution_count": 41,
   "id": "728c904c-6a7b-4525-afb9-e5a1b74eb58d",
   "metadata": {},
   "outputs": [
    {
     "name": "stdout",
     "output_type": "stream",
     "text": [
      "2 (2, 3) float32\n"
     ]
    }
   ],
   "source": [
    "a = np.array([[1,2,3],[4,5,6]],dtype=np.float32)\n",
    "print(a.ndim, a.shape, a.dtype)\n"
   ]
  },
  {
   "cell_type": "code",
   "execution_count": 43,
   "id": "32330a2c-acfa-48dc-815c-1a59dfd5598c",
   "metadata": {},
   "outputs": [],
   "source": [
    "a = np.array([[[1,2,3],[4,5,6],[7,8,9,]]], ndmin=6)"
   ]
  },
  {
   "cell_type": "code",
   "execution_count": 45,
   "id": "cc7b5cee-df4d-4443-9b4e-e1018fb1fb3b",
   "metadata": {},
   "outputs": [],
   "source": [
    "# 2\n",
    "C = np.array([[[1,2,3],[4,5,6],[7,8,9,]]], ndmin=6)"
   ]
  },
  {
   "cell_type": "code",
   "execution_count": 34,
   "id": "35899ee9-1641-47e7-ab9c-f7dc939d49e4",
   "metadata": {},
   "outputs": [
    {
     "data": {
      "text/plain": [
       "array([[1., 1.],\n",
       "       [1., 1.],\n",
       "       [1., 1.]])"
      ]
     },
     "execution_count": 34,
     "metadata": {},
     "output_type": "execute_result"
    }
   ],
   "source": [
    "#3\n",
    "np.ones((3,2))"
   ]
  },
  {
   "cell_type": "markdown",
   "id": "17e6cbdd-91b7-489c-9897-604f1e2a991b",
   "metadata": {},
   "source": [
    "a = np.array([1,2,3,4,5,6])\n",
    "a"
   ]
  },
  {
   "cell_type": "code",
   "execution_count": 50,
   "id": "80a06233-2f45-429e-a5de-c038159fc1e3",
   "metadata": {},
   "outputs": [
    {
     "ename": "ValueError",
     "evalue": "cannot reshape array of size 9 into shape (3,2)",
     "output_type": "error",
     "traceback": [
      "\u001b[0;31m---------------------------------------------------------------------------\u001b[0m",
      "\u001b[0;31mValueError\u001b[0m                                Traceback (most recent call last)",
      "Cell \u001b[0;32mIn[50], line 1\u001b[0m\n\u001b[0;32m----> 1\u001b[0m \u001b[43ma\u001b[49m\u001b[38;5;241;43m.\u001b[39;49m\u001b[43mreshape\u001b[49m\u001b[43m(\u001b[49m\u001b[38;5;241;43m3\u001b[39;49m\u001b[43m,\u001b[49m\u001b[38;5;241;43m2\u001b[39;49m\u001b[43m)\u001b[49m\n",
      "\u001b[0;31mValueError\u001b[0m: cannot reshape array of size 9 into shape (3,2)"
     ]
    }
   ],
   "source": [
    "a.reshape(3,2)\n"
   ]
  },
  {
   "cell_type": "code",
   "execution_count": 48,
   "id": "f129a9c2-cb4f-4926-a747-844870504f06",
   "metadata": {},
   "outputs": [
    {
     "ename": "ValueError",
     "evalue": "cannot reshape array of size 9 into shape (2,newaxis)",
     "output_type": "error",
     "traceback": [
      "\u001b[0;31m---------------------------------------------------------------------------\u001b[0m",
      "\u001b[0;31mValueError\u001b[0m                                Traceback (most recent call last)",
      "Cell \u001b[0;32mIn[48], line 1\u001b[0m\n\u001b[0;32m----> 1\u001b[0m a \u001b[38;5;241m=\u001b[39m \u001b[43ma\u001b[49m\u001b[38;5;241;43m.\u001b[39;49m\u001b[43mreshape\u001b[49m\u001b[43m(\u001b[49m\u001b[38;5;241;43m2\u001b[39;49m\u001b[43m,\u001b[49m\u001b[38;5;241;43m-\u001b[39;49m\u001b[38;5;241;43m1\u001b[39;49m\u001b[43m)\u001b[49m\n\u001b[1;32m      2\u001b[0m a\n",
      "\u001b[0;31mValueError\u001b[0m: cannot reshape array of size 9 into shape (2,newaxis)"
     ]
    }
   ],
   "source": [
    "a = a.reshape(2,-1)\n",
    "a"
   ]
  },
  {
   "cell_type": "code",
   "execution_count": null,
   "id": "739d76ed-cbc0-4d4f-8818-229324ed7e97",
   "metadata": {},
   "outputs": [],
   "source": []
  }
 ],
 "metadata": {
  "kernelspec": {
   "display_name": "Python 3 (ipykernel)",
   "language": "python",
   "name": "python3"
  },
  "language_info": {
   "codemirror_mode": {
    "name": "ipython",
    "version": 3
   },
   "file_extension": ".py",
   "mimetype": "text/x-python",
   "name": "python",
   "nbconvert_exporter": "python",
   "pygments_lexer": "ipython3",
   "version": "3.12.5"
  }
 },
 "nbformat": 4,
 "nbformat_minor": 5
}
